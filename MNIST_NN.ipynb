{
 "cells": [
  {
   "cell_type": "code",
   "execution_count": null,
   "id": "d322e676-7606-428a-bbca-90dc397bd714",
   "metadata": {},
   "outputs": [],
   "source": [
    "import torch\n",
    "import torchvision\n",
    "from torchvision import datasets, transforms "
   ]
  },
  {
   "cell_type": "code",
   "execution_count": null,
   "id": "5bdf50f4-d86b-47d6-bbe4-cd50f1b117f4",
   "metadata": {},
   "outputs": [],
   "source": [
    "train = datasets.MNIST(\"D:\\PyTorch\", train=True, download=True, transform=transforms.Compose([transforms.ToTensor()]))\n",
    "\n",
    "test = datasets.MNIST(\"D:\\PyTorch\", train=False, download=True, transform=transforms.Compose([transforms.ToTensor()]))"
   ]
  },
  {
   "cell_type": "code",
   "execution_count": null,
   "id": "29315f9c-55c1-406d-9df3-2d460f405571",
   "metadata": {},
   "outputs": [],
   "source": [
    "trainset = torch.utils.data.DataLoader(train, batch_size=10, shuffle=True)\n",
    "\n",
    "testset = torch.utils.data.DataLoader(test, batch_size=10, shuffle=True)"
   ]
  },
  {
   "cell_type": "code",
   "execution_count": null,
   "id": "6260ebed-5fd0-4b84-a8ef-90e21bbbe5d6",
   "metadata": {},
   "outputs": [],
   "source": [
    "import matplotlib.pyplot as plt\n",
    "data_vis = train[0][0].permute(1,2,0)"
   ]
  },
  {
   "cell_type": "code",
   "execution_count": null,
   "id": "619c10a5-65f6-4322-85fd-c3eb340a4975",
   "metadata": {},
   "outputs": [],
   "source": [
    "x, y = train[0][0], train[1][0]\n",
    "print(x.shape)\n",
    "print(y.shape)\n",
    "plt.imshow(data_vis)\n"
   ]
  },
  {
   "cell_type": "code",
   "execution_count": null,
   "id": "f247dd5b-789f-46d9-a418-f7b655ca3f14",
   "metadata": {},
   "outputs": [],
   "source": [
    "# To check if the data is balanced or not \n",
    "\n",
    "total = 0\n",
    "counter_dict = {0:0,1:0,2:0,3:0,4:0,5:0,6:0,7:0,8:0,9:0}\n",
    "\n",
    "for data in trainset:\n",
    "    Xs, ys = data \n",
    "    for y in ys:\n",
    "        counter_dict[int(y)] += 1\n",
    "        total += 1\n",
    "\n",
    "for i in counter_dict:\n",
    "    print(f\"{i}: {counter_dict[i]/total*100}\")"
   ]
  },
  {
   "cell_type": "code",
   "execution_count": null,
   "id": "4fca0646-add1-4dc7-9926-d0a91fac148d",
   "metadata": {},
   "outputs": [],
   "source": []
  },
  {
   "cell_type": "code",
   "execution_count": null,
   "id": "6973a491-46de-4d24-b5b3-12218a52bba0",
   "metadata": {},
   "outputs": [],
   "source": [
    "# building neural network \n",
    "\n",
    "import torch.nn as nn\n",
    "import torch.nn.functional as F     # for operating a specific function and interchangable with the above library\n",
    "\n",
    "class Net(nn.Module):\n",
    "    \n",
    "    def __init__(self):\n",
    "        super().__init__()     # corresponds to nn.Module and acts as initialization for Module and inherits methods form nn.Module \n",
    "        \n",
    "        self.FC1 = nn.Linear(in_features=28*28,out_features=64)\n",
    "        self.FC2 = nn.Linear(in_features=64,out_features=64)\n",
    "        self.FC3 = nn.Linear(in_features=64,out_features=64)\n",
    "        self.FC4 = nn.Linear(in_features=64,out_features=10)\n",
    "        self.Relu = nn.ReLU()\n",
    "        \n",
    "    def forward(self,x):\n",
    "        x = self.Relu(self.FC1(x))\n",
    "        x = self.Relu(self.FC2(x))\n",
    "        x = self.FC3(x)\n",
    "        x = self.FC4(x)\n",
    "        \n",
    "        \n",
    "        #print(x.shape)\n",
    "        if len(x.shape)==1:\n",
    "            x = F.softmax(x, dim=0)\n",
    "        else:\n",
    "            x = F.softmax(x, dim=1)         # using the functional library and directly using a method \n",
    "            \n",
    "        return x \n",
    "\n",
    "net = Net()\n"
   ]
  },
  {
   "cell_type": "code",
   "execution_count": null,
   "id": "86ef8648-a302-45b8-9671-b24fca74b1c6",
   "metadata": {},
   "outputs": [],
   "source": [
    "# Loss and optimizer \n",
    "\n",
    "import torch.optim as optim\n",
    "\n",
    "optimizer = optim.Adam(net.parameters(), lr=0.001)\n",
    "EPOCHS = 3\n",
    "\n",
    "# Training loop \n",
    "for epoch in range(EPOCHS):\n",
    "    for data in trainset:\n",
    "        X, y = data\n",
    "        net.train()\n",
    "        net.zero_grad()\n",
    "        output = net(X.view(-1, 28*28))\n",
    "        loss = F.nll_loss(output,y)\n",
    "        loss.backward()\n",
    "        optimizer.step()\n",
    "    print(loss)\n"
   ]
  },
  {
   "cell_type": "code",
   "execution_count": null,
   "id": "026f643d-a819-447e-947d-cc23b2177610",
   "metadata": {},
   "outputs": [],
   "source": [
    "# Inference mode \n",
    "correct = 0\n",
    "total = 0\n",
    "with torch.inference_mode():\n",
    "    net.eval()\n",
    "    for data in testset:\n",
    "        X, y = data \n",
    "        output = net(X.view(-1, 784))\n",
    "        for idx, i in enumerate(output):\n",
    "             if torch.argmax(i) == y[idx]:\n",
    "                 correct += 1\n",
    "             total +=1\n",
    "             \n",
    "print(\"Accuracy\", round(correct/total, 3))"
   ]
  },
  {
   "cell_type": "code",
   "execution_count": null,
   "id": "add0fb31-3eed-4ab9-bc10-3cd205325eb4",
   "metadata": {},
   "outputs": [],
   "source": [
    "output"
   ]
  }
 ],
 "metadata": {
  "kernelspec": {
   "display_name": "Python 3 (ipykernel)",
   "language": "python",
   "name": "python3"
  },
  "language_info": {
   "codemirror_mode": {
    "name": "ipython",
    "version": 3
   },
   "file_extension": ".py",
   "mimetype": "text/x-python",
   "name": "python",
   "nbconvert_exporter": "python",
   "pygments_lexer": "ipython3",
   "version": "3.10.7"
  }
 },
 "nbformat": 4,
 "nbformat_minor": 5
}
